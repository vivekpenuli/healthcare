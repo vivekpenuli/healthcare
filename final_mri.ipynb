{
  "nbformat": 4,
  "nbformat_minor": 0,
  "metadata": {
    "colab": {
      "name": "final_mri",
      "provenance": [],
      "authorship_tag": "ABX9TyOjhY/VJFZjzRWJoO7dMJNn",
      "include_colab_link": true
    },
    "kernelspec": {
      "name": "python3",
      "display_name": "Python 3"
    },
    "accelerator": "GPU"
  },
  "cells": [
    {
      "cell_type": "markdown",
      "metadata": {
        "id": "view-in-github",
        "colab_type": "text"
      },
      "source": [
        "<a href=\"https://colab.research.google.com/github/vivekpenuli/healthcare/blob/main/final_mri.ipynb\" target=\"_parent\"><img src=\"https://colab.research.google.com/assets/colab-badge.svg\" alt=\"Open In Colab\"/></a>"
      ]
    },
    {
      "cell_type": "code",
      "metadata": {
        "colab": {
          "base_uri": "https://localhost:8080/"
        },
        "id": "wQC8xafm9FAp",
        "outputId": "288889ab-96e8-4692-fdf0-dbd0f5802ea0"
      },
      "source": [
        "from google.colab import drive\r\n",
        "drive.mount('/content/drive/')"
      ],
      "execution_count": 1,
      "outputs": [
        {
          "output_type": "stream",
          "text": [
            "Drive already mounted at /content/drive/; to attempt to forcibly remount, call drive.mount(\"/content/drive/\", force_remount=True).\n"
          ],
          "name": "stdout"
        }
      ]
    },
    {
      "cell_type": "code",
      "metadata": {
        "id": "94j72JsW9KIl"
      },
      "source": [
        "import keras\r\n",
        "\r\n",
        "#import the required libraries and methods\r\n",
        "from keras.layers import Input, Lambda, Dense, Flatten, Dropout\r\n",
        "from keras.models import Model\r\n",
        "from keras.applications.vgg16 import VGG16\r\n",
        "from keras.applications.vgg16 import preprocess_input\r\n",
        "from keras.preprocessing import image\r\n",
        "from keras.preprocessing.image import ImageDataGenerator\r\n",
        "from keras.models import Sequential\r\n",
        "import numpy as np\r\n",
        "from glob import glob\r\n",
        "import matplotlib.pyplot as plt\r\n"
      ],
      "execution_count": 2,
      "outputs": []
    },
    {
      "cell_type": "code",
      "metadata": {
        "id": "rpw2hBSb9J-l"
      },
      "source": [
        "ImgSize = [224, 224]\r\n",
        "#To get the location of \"malaria detection cell images\" dataset in the drive\r\n",
        "train_path = '/content/drive/MyDrive/Brain_tumor/brain_tumor_train'\r\n",
        "test_path = '/content/drive/MyDrive/Brain_tumor/brain_tumor_test'"
      ],
      "execution_count": 3,
      "outputs": []
    },
    {
      "cell_type": "code",
      "metadata": {
        "id": "ht46_lH0Segm"
      },
      "source": [
        "vgg = VGG16(input_shape=ImgSize + [3], weights='imagenet', include_top=False)"
      ],
      "execution_count": 4,
      "outputs": []
    },
    {
      "cell_type": "code",
      "metadata": {
        "id": "2cPHCP8vSedH"
      },
      "source": [
        "for layer in vgg.layers:\r\n",
        "    layer.trainable = False"
      ],
      "execution_count": 5,
      "outputs": []
    },
    {
      "cell_type": "code",
      "metadata": {
        "colab": {
          "base_uri": "https://localhost:8080/"
        },
        "id": "SpFLpgSoSjjM",
        "outputId": "ef164468-8e64-499d-e314-4197a1484fa2"
      },
      "source": [
        "folders = glob('/content/drive/MyDrive/Brain_tumor/brain_tumor_train/*')\r\n",
        "print(folders)"
      ],
      "execution_count": 6,
      "outputs": [
        {
          "output_type": "stream",
          "text": [
            "['/content/drive/MyDrive/Brain_tumor/brain_tumor_train/no', '/content/drive/MyDrive/Brain_tumor/brain_tumor_train/yes']\n"
          ],
          "name": "stdout"
        }
      ]
    },
    {
      "cell_type": "code",
      "metadata": {
        "id": "s-pLIvnUSvS6"
      },
      "source": [
        "x = Flatten()(vgg.output)\r\n",
        "prediction = Dense(len(folders), activation='softmax')(x)"
      ],
      "execution_count": 7,
      "outputs": []
    },
    {
      "cell_type": "code",
      "metadata": {
        "id": "HtSDrLCfSw1-"
      },
      "source": [
        "model = Model(inputs=vgg.input, outputs=prediction)"
      ],
      "execution_count": 8,
      "outputs": []
    },
    {
      "cell_type": "code",
      "metadata": {
        "colab": {
          "base_uri": "https://localhost:8080/"
        },
        "id": "LRh7F3VK-pHf",
        "outputId": "eff9202a-9d6e-41ff-b7d1-212147055d76"
      },
      "source": [
        "model.summary()"
      ],
      "execution_count": 9,
      "outputs": [
        {
          "output_type": "stream",
          "text": [
            "Model: \"model\"\n",
            "_________________________________________________________________\n",
            "Layer (type)                 Output Shape              Param #   \n",
            "=================================================================\n",
            "input_1 (InputLayer)         [(None, 224, 224, 3)]     0         \n",
            "_________________________________________________________________\n",
            "block1_conv1 (Conv2D)        (None, 224, 224, 64)      1792      \n",
            "_________________________________________________________________\n",
            "block1_conv2 (Conv2D)        (None, 224, 224, 64)      36928     \n",
            "_________________________________________________________________\n",
            "block1_pool (MaxPooling2D)   (None, 112, 112, 64)      0         \n",
            "_________________________________________________________________\n",
            "block2_conv1 (Conv2D)        (None, 112, 112, 128)     73856     \n",
            "_________________________________________________________________\n",
            "block2_conv2 (Conv2D)        (None, 112, 112, 128)     147584    \n",
            "_________________________________________________________________\n",
            "block2_pool (MaxPooling2D)   (None, 56, 56, 128)       0         \n",
            "_________________________________________________________________\n",
            "block3_conv1 (Conv2D)        (None, 56, 56, 256)       295168    \n",
            "_________________________________________________________________\n",
            "block3_conv2 (Conv2D)        (None, 56, 56, 256)       590080    \n",
            "_________________________________________________________________\n",
            "block3_conv3 (Conv2D)        (None, 56, 56, 256)       590080    \n",
            "_________________________________________________________________\n",
            "block3_pool (MaxPooling2D)   (None, 28, 28, 256)       0         \n",
            "_________________________________________________________________\n",
            "block4_conv1 (Conv2D)        (None, 28, 28, 512)       1180160   \n",
            "_________________________________________________________________\n",
            "block4_conv2 (Conv2D)        (None, 28, 28, 512)       2359808   \n",
            "_________________________________________________________________\n",
            "block4_conv3 (Conv2D)        (None, 28, 28, 512)       2359808   \n",
            "_________________________________________________________________\n",
            "block4_pool (MaxPooling2D)   (None, 14, 14, 512)       0         \n",
            "_________________________________________________________________\n",
            "block5_conv1 (Conv2D)        (None, 14, 14, 512)       2359808   \n",
            "_________________________________________________________________\n",
            "block5_conv2 (Conv2D)        (None, 14, 14, 512)       2359808   \n",
            "_________________________________________________________________\n",
            "block5_conv3 (Conv2D)        (None, 14, 14, 512)       2359808   \n",
            "_________________________________________________________________\n",
            "block5_pool (MaxPooling2D)   (None, 7, 7, 512)         0         \n",
            "_________________________________________________________________\n",
            "flatten (Flatten)            (None, 25088)             0         \n",
            "_________________________________________________________________\n",
            "dense (Dense)                (None, 2)                 50178     \n",
            "=================================================================\n",
            "Total params: 14,764,866\n",
            "Trainable params: 50,178\n",
            "Non-trainable params: 14,714,688\n",
            "_________________________________________________________________\n"
          ],
          "name": "stdout"
        }
      ]
    },
    {
      "cell_type": "code",
      "metadata": {
        "id": "HleUxWdR-6w3"
      },
      "source": [
        "model.compile(\r\n",
        "  loss='categorical_crossentropy',\r\n",
        "  optimizer='adam',\r\n",
        "  metrics=['accuracy']\r\n",
        ")"
      ],
      "execution_count": 10,
      "outputs": []
    },
    {
      "cell_type": "code",
      "metadata": {
        "id": "DhXeeRK1-9XK"
      },
      "source": [
        "from keras.preprocessing.image import ImageDataGenerator"
      ],
      "execution_count": 11,
      "outputs": []
    },
    {
      "cell_type": "markdown",
      "metadata": {
        "id": "KE2nhv3VRFwU"
      },
      "source": [
        "rescale = 1./255,\r\n",
        "                                   shear_range = 0.2,\r\n",
        "                                   zoom_range = 0.2,"
      ]
    },
    {
      "cell_type": "code",
      "metadata": {
        "id": "fkfnOVrs--Ki"
      },
      "source": [
        "train_datagen = ImageDataGenerator(rescale=1/255,\r\n",
        "                             rotation_range=20,\r\n",
        "                             horizontal_flip=True,\r\n",
        "                             height_shift_range=0.1,\r\n",
        "                             width_shift_range=0.1,\r\n",
        "                             shear_range=0.1,\r\n",
        "                             brightness_range=[0.3, 1.5])"
      ],
      "execution_count": 12,
      "outputs": []
    },
    {
      "cell_type": "code",
      "metadata": {
        "id": "0F3wvmMp_Cue"
      },
      "source": [
        "\r\n",
        "test_datagen = ImageDataGenerator(rescale = 1./255)"
      ],
      "execution_count": 13,
      "outputs": []
    },
    {
      "cell_type": "code",
      "metadata": {
        "colab": {
          "base_uri": "https://localhost:8080/"
        },
        "id": "ncYnhyAO_Fgm",
        "outputId": "2f1f0ccd-d465-4dee-e2c1-5541025935ae"
      },
      "source": [
        "training_set = train_datagen.flow_from_directory('/content/drive/MyDrive/Brain_tumor/brain_tumor_train',\r\n",
        "                                                 target_size = (224, 224),\r\n",
        "                                                 batch_size = 32,\r\n",
        "                                                 class_mode = 'categorical')"
      ],
      "execution_count": 14,
      "outputs": [
        {
          "output_type": "stream",
          "text": [
            "Found 196 images belonging to 2 classes.\n"
          ],
          "name": "stdout"
        }
      ]
    },
    {
      "cell_type": "code",
      "metadata": {
        "colab": {
          "base_uri": "https://localhost:8080/"
        },
        "id": "iAH3GC5a_OgP",
        "outputId": "444d5ba4-9ecc-4b4f-df24-a799df9978b8"
      },
      "source": [
        "test_set = test_datagen.flow_from_directory('/content/drive/MyDrive/Brain_tumor/brain_tumor_test',\r\n",
        "                                            target_size = (224, 224),\r\n",
        "                                            batch_size = 32,\r\n",
        "                                            class_mode = 'categorical')\r\n"
      ],
      "execution_count": 15,
      "outputs": [
        {
          "output_type": "stream",
          "text": [
            "Found 49 images belonging to 2 classes.\n"
          ],
          "name": "stdout"
        }
      ]
    },
    {
      "cell_type": "code",
      "metadata": {
        "colab": {
          "base_uri": "https://localhost:8080/"
        },
        "id": "N1Zh0q7O_SVG",
        "outputId": "f11b5309-c139-4605-90e2-5bf57a59ca78"
      },
      "source": [
        "m = model.fit_generator(\r\n",
        "  training_set,\r\n",
        "  validation_data=test_set,\r\n",
        "  epochs=10,\r\n",
        "  steps_per_epoch=len(training_set),\r\n",
        "  validation_steps=len(test_set)\r\n",
        ")"
      ],
      "execution_count": 16,
      "outputs": [
        {
          "output_type": "stream",
          "text": [
            "/usr/local/lib/python3.7/dist-packages/tensorflow/python/keras/engine/training.py:1844: UserWarning: `Model.fit_generator` is deprecated and will be removed in a future version. Please use `Model.fit`, which supports generators.\n",
            "  warnings.warn('`Model.fit_generator` is deprecated and '\n"
          ],
          "name": "stderr"
        },
        {
          "output_type": "stream",
          "text": [
            "Epoch 1/10\n",
            "7/7 [==============================] - 17s 2s/step - loss: 2.4216 - accuracy: 0.5419 - val_loss: 2.7181 - val_accuracy: 0.6327\n",
            "Epoch 2/10\n",
            "7/7 [==============================] - 4s 494ms/step - loss: 2.2554 - accuracy: 0.6209 - val_loss: 1.6955 - val_accuracy: 0.4286\n",
            "Epoch 3/10\n",
            "7/7 [==============================] - 4s 497ms/step - loss: 0.7977 - accuracy: 0.6133 - val_loss: 0.6944 - val_accuracy: 0.7755\n",
            "Epoch 4/10\n",
            "7/7 [==============================] - 4s 494ms/step - loss: 0.7990 - accuracy: 0.7839 - val_loss: 0.7866 - val_accuracy: 0.7755\n",
            "Epoch 5/10\n",
            "7/7 [==============================] - 4s 580ms/step - loss: 0.5147 - accuracy: 0.8199 - val_loss: 0.3784 - val_accuracy: 0.8163\n",
            "Epoch 6/10\n",
            "7/7 [==============================] - 4s 491ms/step - loss: 0.4492 - accuracy: 0.8208 - val_loss: 0.3975 - val_accuracy: 0.7755\n",
            "Epoch 7/10\n",
            "7/7 [==============================] - 4s 504ms/step - loss: 0.3643 - accuracy: 0.8496 - val_loss: 0.3457 - val_accuracy: 0.8163\n",
            "Epoch 8/10\n",
            "7/7 [==============================] - 4s 495ms/step - loss: 0.2961 - accuracy: 0.8789 - val_loss: 0.3530 - val_accuracy: 0.8571\n",
            "Epoch 9/10\n",
            "7/7 [==============================] - 4s 492ms/step - loss: 0.3069 - accuracy: 0.8787 - val_loss: 0.3639 - val_accuracy: 0.8776\n",
            "Epoch 10/10\n",
            "7/7 [==============================] - 4s 493ms/step - loss: 0.2832 - accuracy: 0.8610 - val_loss: 0.3999 - val_accuracy: 0.8571\n"
          ],
          "name": "stdout"
        }
      ]
    },
    {
      "cell_type": "code",
      "metadata": {
        "colab": {
          "base_uri": "https://localhost:8080/",
          "height": 282
        },
        "id": "CJ8DWylSHQ2Z",
        "outputId": "06622088-a2de-435f-a7f0-fcc2045ad02c"
      },
      "source": [
        "# plot the loss \r\n",
        "plt.plot(m.history['loss'], label='train loss')\r\n",
        "plt.plot(m.history['val_loss'], label='validation loss')\r\n",
        "plt.legend()\r\n",
        "plt.show()\r\n",
        "plt.savefig('LossVal_loss')"
      ],
      "execution_count": 22,
      "outputs": [
        {
          "output_type": "display_data",
          "data": {
            "image/png": "[encoded data removed]",
            "text/plain": [
              "<Figure size 432x288 with 1 Axes>"
            ]
          },
          "metadata": {
            "tags": [],
            "needs_background": "light"
          }
        },
        {
          "output_type": "display_data",
          "data": {
            "text/plain": [
              "<Figure size 432x288 with 0 Axes>"
            ]
          },
          "metadata": {
            "tags": []
          }
        }
      ]
    },
    {
      "cell_type": "code",
      "metadata": {
        "colab": {
          "base_uri": "https://localhost:8080/",
          "height": 282
        },
        "id": "bl4U-uoDHTOB",
        "outputId": "6468be96-4705-4aec-f6c6-8a6d156f8b88"
      },
      "source": [
        "# plot the accuracy\r\n",
        "plt.plot(m.history['accuracy'], label='train accuracy')\r\n",
        "plt.plot(m.history['val_accuracy'], label='validation accuracy')\r\n",
        "plt.legend()\r\n",
        "plt.show()\r\n",
        "plt.savefig('AccVal_acc')"
      ],
      "execution_count": 23,
      "outputs": [
        {
          "output_type": "display_data",
          "data": {
            "image/png": "[encoded data removed]",
            "text/plain": [
              "<Figure size 432x288 with 1 Axes>"
            ]
          },
          "metadata": {
            "tags": [],
            "needs_background": "light"
          }
        },
        {
          "output_type": "display_data",
          "data": {
            "text/plain": [
              "<Figure size 432x288 with 0 Axes>"
            ]
          },
          "metadata": {
            "tags": []
          }
        }
      ]
    },
    {
      "cell_type": "code",
      "metadata": {
        "id": "SpxalGCXTZZy"
      },
      "source": [
        "model.save('finalmri.h5')"
      ],
      "execution_count": 21,
      "outputs": []
    }
  ]
}