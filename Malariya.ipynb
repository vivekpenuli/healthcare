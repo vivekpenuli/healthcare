{
  "nbformat": 4,
  "nbformat_minor": 0,
  "metadata": {
    "colab": {
      "name": "Malariya",
      "provenance": [],
      "authorship_tag": "ABX9TyMhUHpTHipcyVWh9lUaNKov",
      "include_colab_link": true
    },
    "kernelspec": {
      "name": "python3",
      "display_name": "Python 3"
    },
    "accelerator": "GPU"
  },
  "cells": [
    {
      "cell_type": "markdown",
      "metadata": {
        "id": "view-in-github",
        "colab_type": "text"
      },
      "source": [
        "<a href=\"https://colab.research.google.com/github/vivekpenuli/healthcare/blob/main/Malariya.ipynb\" target=\"_parent\"><img src=\"https://colab.research.google.com/assets/colab-badge.svg\" alt=\"Open In Colab\"/></a>"
      ]
    },
    {
      "cell_type": "code",
      "metadata": {
        "colab": {
          "base_uri": "https://localhost:8080/"
        },
        "id": "wQC8xafm9FAp",
        "outputId": "53a308ac-c02b-4709-c00a-53daa53def4c"
      },
      "source": [
        "from google.colab import drive\r\n",
        "drive.mount('/content/drive/')"
      ],
      "execution_count": 1,
      "outputs": [
        {
          "output_type": "stream",
          "text": [
            "Drive already mounted at /content/drive/; to attempt to forcibly remount, call drive.mount(\"/content/drive/\", force_remount=True).\n"
          ],
          "name": "stdout"
        }
      ]
    },
    {
      "cell_type": "code",
      "metadata": {
        "id": "94j72JsW9KIl"
      },
      "source": [
        "import keras\r\n",
        "\r\n",
        "#import the required libraries and methods\r\n",
        "from keras.layers import Input, Lambda, Dense, Flatten, Dropout\r\n",
        "from keras.models import Model\r\n",
        "from keras.applications.vgg16 import VGG16\r\n",
        "from keras.applications.vgg16 import preprocess_input\r\n",
        "from keras.preprocessing import image\r\n",
        "from keras.preprocessing.image import ImageDataGenerator\r\n",
        "from keras.models import Sequential\r\n",
        "import numpy as np\r\n",
        "from glob import glob\r\n",
        "import matplotlib.pyplot as plt\r\n"
      ],
      "execution_count": 2,
      "outputs": []
    },
    {
      "cell_type": "code",
      "metadata": {
        "id": "rpw2hBSb9J-l"
      },
      "source": [
        "ImgSize = [224, 224]\r\n",
        "#To get the location of \"malaria detection cell images\" dataset in the drive\r\n",
        "train_path = '/content/drive/MyDrive/Malariya/Mal_train'\r\n",
        "test_path = '/content/drive/MyDrive/Malariya/Mal_test'"
      ],
      "execution_count": 3,
      "outputs": []
    },
    {
      "cell_type": "code",
      "metadata": {
        "id": "ht46_lH0Segm"
      },
      "source": [
        "vgg = VGG16(input_shape=ImgSize + [3], weights='imagenet', include_top=False)"
      ],
      "execution_count": 4,
      "outputs": []
    },
    {
      "cell_type": "code",
      "metadata": {
        "id": "TrlpUN5SZSWf"
      },
      "source": [
        "import os\r\n",
        "\r\n",
        "train_para_dir = os.path.join(train_path,'infected')  # directory with our training cat pictures\r\n",
        "train_un_dir = os.path.join(train_path, 'uninfected')  # directory with our training dog pictures\r\n",
        "validation_para_dir = os.path.join(test_path, 'infected')  # directory with our validation cat pictures\r\n",
        "validation_un_dir = os.path.join(test_path, 'uninfected')"
      ],
      "execution_count": 5,
      "outputs": []
    },
    {
      "cell_type": "code",
      "metadata": {
        "id": "bYxFUSPtZYXr"
      },
      "source": [
        "\r\n",
        "num_para_tr = len(os.listdir(train_para_dir))\r\n",
        "num_un_tr = len(os.listdir(train_un_dir))\r\n",
        "\r\n",
        "num_para_val = len(os.listdir(validation_para_dir))\r\n",
        "num_un_val = len(os.listdir(validation_un_dir))\r\n",
        "\r\n",
        "\r\n",
        "total_train = num_para_tr + num_un_tr\r\n",
        "total_val = num_para_val + num_un_val"
      ],
      "execution_count": 6,
      "outputs": []
    },
    {
      "cell_type": "code",
      "metadata": {
        "colab": {
          "base_uri": "https://localhost:8080/"
        },
        "id": "w35PGq11ZZ8G",
        "outputId": "6c015ed0-1a50-490b-8a11-30b2f7ebcc93"
      },
      "source": [
        "print('total training parasitized images:', num_para_tr)\r\n",
        "print('total training uninfected images:', num_un_tr)\r\n",
        "\r\n",
        "print('total validation parasitized images:', num_para_val)\r\n",
        "print('total validation uninfected images:', num_un_val)\r\n",
        "print(\"--\")\r\n",
        "print(\"Total training images:\", total_train)\r\n",
        "print(\"Total validation images:\", total_val)"
      ],
      "execution_count": 7,
      "outputs": [
        {
          "output_type": "stream",
          "text": [
            "total training parasitized images: 1000\n",
            "total training uninfected images: 1000\n",
            "total validation parasitized images: 200\n",
            "total validation uninfected images: 200\n",
            "--\n",
            "Total training images: 2000\n",
            "Total validation images: 400\n"
          ],
          "name": "stdout"
        }
      ]
    },
    {
      "cell_type": "code",
      "metadata": {
        "id": "2cPHCP8vSedH"
      },
      "source": [
        "for layer in vgg.layers:\r\n",
        "    layer.trainable = False"
      ],
      "execution_count": 8,
      "outputs": []
    },
    {
      "cell_type": "code",
      "metadata": {
        "colab": {
          "base_uri": "https://localhost:8080/"
        },
        "id": "SpFLpgSoSjjM",
        "outputId": "29ee819d-7560-421f-8b5b-0fa3be52a92a"
      },
      "source": [
        "folders = glob('/content/drive/MyDrive/Malariya/*')\r\n",
        "print(folders)"
      ],
      "execution_count": 9,
      "outputs": [
        {
          "output_type": "stream",
          "text": [
            "['/content/drive/MyDrive/Malariya/Mal_train', '/content/drive/MyDrive/Malariya/Mal_test']\n"
          ],
          "name": "stdout"
        }
      ]
    },
    {
      "cell_type": "code",
      "metadata": {
        "id": "s-pLIvnUSvS6"
      },
      "source": [
        "x = Flatten()(vgg.output)\r\n",
        "prediction = Dense(len(folders), activation='softmax')(x)"
      ],
      "execution_count": 10,
      "outputs": []
    },
    {
      "cell_type": "code",
      "metadata": {
        "id": "HtSDrLCfSw1-"
      },
      "source": [
        "model = Model(inputs=vgg.input, outputs=prediction)"
      ],
      "execution_count": 11,
      "outputs": []
    },
    {
      "cell_type": "code",
      "metadata": {
        "colab": {
          "base_uri": "https://localhost:8080/"
        },
        "id": "LRh7F3VK-pHf",
        "outputId": "f8653ce5-07e8-4b8b-c5fa-e3d65729490a"
      },
      "source": [
        "model.summary()"
      ],
      "execution_count": 12,
      "outputs": [
        {
          "output_type": "stream",
          "text": [
            "Model: \"model\"\n",
            "_________________________________________________________________\n",
            "Layer (type)                 Output Shape              Param #   \n",
            "=================================================================\n",
            "input_1 (InputLayer)         [(None, 224, 224, 3)]     0         \n",
            "_________________________________________________________________\n",
            "block1_conv1 (Conv2D)        (None, 224, 224, 64)      1792      \n",
            "_________________________________________________________________\n",
            "block1_conv2 (Conv2D)        (None, 224, 224, 64)      36928     \n",
            "_________________________________________________________________\n",
            "block1_pool (MaxPooling2D)   (None, 112, 112, 64)      0         \n",
            "_________________________________________________________________\n",
            "block2_conv1 (Conv2D)        (None, 112, 112, 128)     73856     \n",
            "_________________________________________________________________\n",
            "block2_conv2 (Conv2D)        (None, 112, 112, 128)     147584    \n",
            "_________________________________________________________________\n",
            "block2_pool (MaxPooling2D)   (None, 56, 56, 128)       0         \n",
            "_________________________________________________________________\n",
            "block3_conv1 (Conv2D)        (None, 56, 56, 256)       295168    \n",
            "_________________________________________________________________\n",
            "block3_conv2 (Conv2D)        (None, 56, 56, 256)       590080    \n",
            "_________________________________________________________________\n",
            "block3_conv3 (Conv2D)        (None, 56, 56, 256)       590080    \n",
            "_________________________________________________________________\n",
            "block3_pool (MaxPooling2D)   (None, 28, 28, 256)       0         \n",
            "_________________________________________________________________\n",
            "block4_conv1 (Conv2D)        (None, 28, 28, 512)       1180160   \n",
            "_________________________________________________________________\n",
            "block4_conv2 (Conv2D)        (None, 28, 28, 512)       2359808   \n",
            "_________________________________________________________________\n",
            "block4_conv3 (Conv2D)        (None, 28, 28, 512)       2359808   \n",
            "_________________________________________________________________\n",
            "block4_pool (MaxPooling2D)   (None, 14, 14, 512)       0         \n",
            "_________________________________________________________________\n",
            "block5_conv1 (Conv2D)        (None, 14, 14, 512)       2359808   \n",
            "_________________________________________________________________\n",
            "block5_conv2 (Conv2D)        (None, 14, 14, 512)       2359808   \n",
            "_________________________________________________________________\n",
            "block5_conv3 (Conv2D)        (None, 14, 14, 512)       2359808   \n",
            "_________________________________________________________________\n",
            "block5_pool (MaxPooling2D)   (None, 7, 7, 512)         0         \n",
            "_________________________________________________________________\n",
            "flatten (Flatten)            (None, 25088)             0         \n",
            "_________________________________________________________________\n",
            "dense (Dense)                (None, 2)                 50178     \n",
            "=================================================================\n",
            "Total params: 14,764,866\n",
            "Trainable params: 50,178\n",
            "Non-trainable params: 14,714,688\n",
            "_________________________________________________________________\n"
          ],
          "name": "stdout"
        }
      ]
    },
    {
      "cell_type": "code",
      "metadata": {
        "id": "HleUxWdR-6w3"
      },
      "source": [
        "model.compile(\r\n",
        "  loss='categorical_crossentropy',\r\n",
        "  optimizer='adam',\r\n",
        "  metrics=['accuracy']\r\n",
        ")"
      ],
      "execution_count": 13,
      "outputs": []
    },
    {
      "cell_type": "code",
      "metadata": {
        "id": "DhXeeRK1-9XK"
      },
      "source": [
        "from keras.preprocessing.image import ImageDataGenerator"
      ],
      "execution_count": 14,
      "outputs": []
    },
    {
      "cell_type": "markdown",
      "metadata": {
        "id": "KE2nhv3VRFwU"
      },
      "source": [
        "rescale = 1./255,\r\n",
        "                                   shear_range = 0.2,\r\n",
        "                                   zoom_range = 0.2,"
      ]
    },
    {
      "cell_type": "code",
      "metadata": {
        "id": "fkfnOVrs--Ki"
      },
      "source": [
        "train_datagen = ImageDataGenerator(rescale=1/255,\r\n",
        "                             rotation_range=20,\r\n",
        "                             horizontal_flip=True,\r\n",
        "                             height_shift_range=0.1,\r\n",
        "                             width_shift_range=0.1,\r\n",
        "                             shear_range=0.1,\r\n",
        ")"
      ],
      "execution_count": 15,
      "outputs": []
    },
    {
      "cell_type": "code",
      "metadata": {
        "id": "0F3wvmMp_Cue"
      },
      "source": [
        "\r\n",
        "test_datagen = ImageDataGenerator(rescale = 1./255)"
      ],
      "execution_count": 16,
      "outputs": []
    },
    {
      "cell_type": "code",
      "metadata": {
        "colab": {
          "base_uri": "https://localhost:8080/"
        },
        "id": "ncYnhyAO_Fgm",
        "outputId": "7ec22d27-6448-4894-d4bc-379c78eb17f2"
      },
      "source": [
        "training_set = train_datagen.flow_from_directory('/content/drive/MyDrive/Malariya/Mal_train',\r\n",
        "                                                 target_size = (224, 224),\r\n",
        "                                                 batch_size = 32,\r\n",
        "                                                 class_mode = 'categorical')"
      ],
      "execution_count": 19,
      "outputs": [
        {
          "output_type": "stream",
          "text": [
            "Found 2000 images belonging to 2 classes.\n"
          ],
          "name": "stdout"
        }
      ]
    },
    {
      "cell_type": "code",
      "metadata": {
        "colab": {
          "base_uri": "https://localhost:8080/"
        },
        "id": "iAH3GC5a_OgP",
        "outputId": "1f5864ab-b798-4cc2-c1a3-80288d57a61c"
      },
      "source": [
        "test_set = test_datagen.flow_from_directory('/content/drive/MyDrive/Malariya/Mal_test',\r\n",
        "                                            target_size = (224, 224),\r\n",
        "                                            batch_size = 32,\r\n",
        "                                            class_mode = 'categorical')\r\n"
      ],
      "execution_count": 20,
      "outputs": [
        {
          "output_type": "stream",
          "text": [
            "Found 400 images belonging to 2 classes.\n"
          ],
          "name": "stdout"
        }
      ]
    },
    {
      "cell_type": "code",
      "metadata": {
        "colab": {
          "base_uri": "https://localhost:8080/"
        },
        "id": "N1Zh0q7O_SVG",
        "outputId": "178cf7e1-ffa2-4d7a-b56a-943347b3d4b3"
      },
      "source": [
        "m = model.fit_generator(\r\n",
        "  training_set,\r\n",
        "  validation_data=test_set,\r\n",
        "  epochs=4,\r\n",
        "  steps_per_epoch=len(training_set),\r\n",
        "  validation_steps=len(test_set)\r\n",
        ")"
      ],
      "execution_count": 22,
      "outputs": [
        {
          "output_type": "stream",
          "text": [
            "/usr/local/lib/python3.7/dist-packages/tensorflow/python/keras/engine/training.py:1844: UserWarning: `Model.fit_generator` is deprecated and will be removed in a future version. Please use `Model.fit`, which supports generators.\n",
            "  warnings.warn('`Model.fit_generator` is deprecated and '\n"
          ],
          "name": "stderr"
        },
        {
          "output_type": "stream",
          "text": [
            "Epoch 1/4\n",
            "63/63 [==============================] - 968s 15s/step - loss: 0.5416 - accuracy: 0.7310 - val_loss: 0.2837 - val_accuracy: 0.9150\n",
            "Epoch 2/4\n",
            "63/63 [==============================] - 33s 529ms/step - loss: 0.3362 - accuracy: 0.8655 - val_loss: 0.3187 - val_accuracy: 0.8550\n",
            "Epoch 3/4\n",
            "63/63 [==============================] - 33s 519ms/step - loss: 0.3024 - accuracy: 0.8780 - val_loss: 0.2152 - val_accuracy: 0.9225\n",
            "Epoch 4/4\n",
            "63/63 [==============================] - 33s 519ms/step - loss: 0.2430 - accuracy: 0.9150 - val_loss: 0.2057 - val_accuracy: 0.9350\n"
          ],
          "name": "stdout"
        }
      ]
    },
    {
      "cell_type": "code",
      "metadata": {
        "colab": {
          "base_uri": "https://localhost:8080/",
          "height": 282
        },
        "id": "CJ8DWylSHQ2Z",
        "outputId": "1da87d4f-6d19-462e-eb37-5587de486c3e"
      },
      "source": [
        "# plot the loss \r\n",
        "plt.plot(m.history['loss'], label='train loss')\r\n",
        "plt.plot(m.history['val_loss'], label='validation loss')\r\n",
        "plt.legend()\r\n",
        "plt.show()\r\n",
        "plt.savefig('LossVal_loss')"
      ],
      "execution_count": 23,
      "outputs": [
        {
          "output_type": "display_data",
          "data": {
            "image/png": "[encoded data removed]",
            "text/plain": [
              "<Figure size 432x288 with 1 Axes>"
            ]
          },
          "metadata": {
            "tags": [],
            "needs_background": "light"
          }
        },
        {
          "output_type": "display_data",
          "data": {
            "text/plain": [
              "<Figure size 432x288 with 0 Axes>"
            ]
          },
          "metadata": {
            "tags": []
          }
        }
      ]
    },
    {
      "cell_type": "code",
      "metadata": {
        "colab": {
          "base_uri": "https://localhost:8080/",
          "height": 282
        },
        "id": "bl4U-uoDHTOB",
        "outputId": "52a1bc50-da7e-44ed-8d39-2a9deabd5992"
      },
      "source": [
        "# plot the accuracy\r\n",
        "plt.plot(m.history['accuracy'], label='train accuracy')\r\n",
        "plt.plot(m.history['val_accuracy'], label='validation accuracy')\r\n",
        "plt.legend()\r\n",
        "plt.show()\r\n",
        "plt.savefig('AccVal_acc')"
      ],
      "execution_count": 24,
      "outputs": [
        {
          "output_type": "display_data",
          "data": {
            "image/png": "[encoded data removed]",
            "text/plain": [
              "<Figure size 432x288 with 1 Axes>"
            ]
          },
          "metadata": {
            "tags": [],
            "needs_background": "light"
          }
        },
        {
          "output_type": "display_data",
          "data": {
            "text/plain": [
              "<Figure size 432x288 with 0 Axes>"
            ]
          },
          "metadata": {
            "tags": []
          }
        }
      ]
    },
    {
      "cell_type": "code",
      "metadata": {
        "id": "SpxalGCXTZZy"
      },
      "source": [
        "model.save('finalmalariya.h5')"
      ],
      "execution_count": 25,
      "outputs": []
    }
  ]
}