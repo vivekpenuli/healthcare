{
  "nbformat": 4,
  "nbformat_minor": 0,
  "metadata": {
    "accelerator": "GPU",
    "colab": {
      "name": "covid",
      "provenance": [],
      "collapsed_sections": [],
      "authorship_tag": "ABX9TyOaVU6kpTwbUQp34NFas6iN",
      "include_colab_link": true
    },
    "kernelspec": {
      "display_name": "Python 3",
      "name": "python3"
    },
    "language_info": {
      "name": "python"
    }
  },
  "cells": [
    {
      "cell_type": "markdown",
      "metadata": {
        "id": "view-in-github",
        "colab_type": "text"
      },
      "source": [
        "<a href=\"https://colab.research.google.com/github/vivekpenuli/healthcare/blob/main/covid.ipynb\" target=\"_parent\"><img src=\"https://colab.research.google.com/assets/colab-badge.svg\" alt=\"Open In Colab\"/></a>"
      ]
    },
    {
      "cell_type": "code",
      "metadata": {
        "colab": {
          "base_uri": "https://localhost:8080/"
        },
        "id": "W8S_vT8491YX",
        "outputId": "c48db73e-7e35-4f4f-e636-810fb4df0137"
      },
      "source": [
        "\n",
        "from google.colab import drive\n",
        "drive.mount('/content/drive/')"
      ],
      "execution_count": null,
      "outputs": [
        {
          "output_type": "stream",
          "text": [
            "Drive already mounted at /content/drive/; to attempt to forcibly remount, call drive.mount(\"/content/drive/\", force_remount=True).\n"
          ],
          "name": "stdout"
        }
      ]
    },
    {
      "cell_type": "code",
      "metadata": {
        "id": "XsWJAb4H95kq"
      },
      "source": [
        "\n",
        "import keras\n",
        "\n",
        "#import the required libraries and methods\n",
        "from keras.layers import Input, Lambda, Dense, Flatten, Dropout\n",
        "from keras.models import Model\n",
        "from keras.applications.vgg16 import VGG16\n",
        "from keras.applications.vgg16 import preprocess_input\n",
        "from keras.preprocessing import image\n",
        "from keras.preprocessing.image import ImageDataGenerator\n",
        "from keras.models import Sequential\n",
        "import numpy as np\n",
        "from glob import glob\n",
        "import matplotlib.pyplot as plt"
      ],
      "execution_count": null,
      "outputs": []
    },
    {
      "cell_type": "code",
      "metadata": {
        "id": "D5_IAP0n95hu"
      },
      "source": [
        "ImgSize = [224, 224]\n",
        "#To get the location of \"malaria detection cell images\" dataset in the drive\n",
        "train_path = '/content/drive/MyDrive/Covid_19 Dataset:11 04 2021/train'\n",
        "test_path = '/content/drive/MyDrive/Covid_19 Dataset:11 04 2021/test'\n",
        "validation_path='/content/drive/MyDrive/Covid_19 Dataset:11 04 2021/valid'"
      ],
      "execution_count": null,
      "outputs": []
    },
    {
      "cell_type": "code",
      "metadata": {
        "id": "avcWU0Pl95e1"
      },
      "source": [
        "import os\n",
        "train_para_dir = os.path.join(train_path,'covid')  # directory with training covid pictures\n",
        "train_un_dir = os.path.join(train_path, 'normal')  # directory with  training normal pictures\n",
        "Testing_para_dir = os.path.join(test_path, 'covid')  # directory with  testing covid pictures\n",
        "Testing_un_dir = os.path.join(test_path, 'normal')    # directory with testing normal picture\n",
        "validation_para_dir = os.path.join(validation_path, 'covid')  # directory with  validation covid pictures\n",
        "validation_un_dir = os.path.join(validation_path, 'normal')  # directory with Validation normal picture"
      ],
      "execution_count": null,
      "outputs": []
    },
    {
      "cell_type": "code",
      "metadata": {
        "id": "WJJwOyze95b-"
      },
      "source": [
        "num_para_tr = len(os.listdir(train_para_dir))\n",
        "num_un_tr = len(os.listdir(train_un_dir))\n",
        "\n",
        "num_para_test = len(os.listdir(Testing_para_dir))\n",
        "num_un_test = len(os.listdir(Testing_un_dir))\n",
        "\n",
        "\n",
        "num_para_val = len(os.listdir(validation_para_dir))\n",
        "num_un_val = len(os.listdir(validation_un_dir))\n",
        "\n",
        "total_train = num_para_tr + num_un_tr\n",
        "total_val = num_para_val + num_un_val\n",
        "total_test=num_para_test + num_un_test"
      ],
      "execution_count": null,
      "outputs": []
    },
    {
      "cell_type": "code",
      "metadata": {
        "colab": {
          "base_uri": "https://localhost:8080/"
        },
        "id": "85q4WIgH95ZT",
        "outputId": "5a9374f4-f66a-4510-d5a3-6f5dc2b00ce2"
      },
      "source": [
        "print('total training covid images:', num_para_tr)\n",
        "print('total training normal images:', num_un_tr)\n",
        "print(\"--\")\n",
        "print('total Testing covid images:', num_para_test)\n",
        "print('total Testing normal images:', num_un_test)\n",
        "print(\"--\")\n",
        "print('total validation covid images:', num_para_val)\n",
        "print('total validation normal images:', num_un_val)\n",
        "print(\"--\")\n",
        "print(\"Total training images:\", total_train)\n",
        "print(\"Total Testing images:\", total_test)\n",
        "print(\"Total validation images:\", total_val)"
      ],
      "execution_count": null,
      "outputs": [
        {
          "output_type": "stream",
          "text": [
            "total training covid images: 2169\n",
            "total training normal images: 3000\n",
            "--\n",
            "total Testing covid images: 723\n",
            "total Testing normal images: 1000\n",
            "--\n",
            "total validation covid images: 723\n",
            "total validation normal images: 1000\n",
            "--\n",
            "Total training images: 5169\n",
            "Total Testing images: 1723\n",
            "Total validation images: 1723\n"
          ],
          "name": "stdout"
        }
      ]
    },
    {
      "cell_type": "code",
      "metadata": {
        "id": "uAKPYp7MCS7T",
        "colab": {
          "base_uri": "https://localhost:8080/"
        },
        "outputId": "2f0e6e61-15aa-4c30-a84c-23090762a9f7"
      },
      "source": [
        "vgg = VGG16(input_shape=ImgSize + [3], weights='imagenet', include_top=False)"
      ],
      "execution_count": null,
      "outputs": [
        {
          "output_type": "stream",
          "text": [
            "Downloading data from https://storage.googleapis.com/tensorflow/keras-applications/vgg16/vgg16_weights_tf_dim_ordering_tf_kernels_notop.h5\n",
            "58892288/58889256 [==============================] - 1s 0us/step\n"
          ],
          "name": "stdout"
        }
      ]
    },
    {
      "cell_type": "code",
      "metadata": {
        "id": "xIBS27cFD_pg"
      },
      "source": [
        "\n",
        "for layer in vgg.layers:\n",
        "    layer.trainable = False"
      ],
      "execution_count": null,
      "outputs": []
    },
    {
      "cell_type": "code",
      "metadata": {
        "colab": {
          "base_uri": "https://localhost:8080/"
        },
        "id": "gRs_1fhjEBr8",
        "outputId": "5d41af4b-cafa-4009-a216-e5455473ee7f"
      },
      "source": [
        "\n",
        "folders = glob('/content/drive/MyDrive/Covid_19 Dataset:11 04 2021/train/*')\n",
        "print(folders)"
      ],
      "execution_count": null,
      "outputs": [
        {
          "output_type": "stream",
          "text": [
            "['/content/drive/MyDrive/Covid_19 Dataset:11 04 2021/train/covid', '/content/drive/MyDrive/Covid_19 Dataset:11 04 2021/train/normal']\n"
          ],
          "name": "stdout"
        }
      ]
    },
    {
      "cell_type": "code",
      "metadata": {
        "id": "qRjI_RhBEBoh"
      },
      "source": [
        "x = Flatten()(vgg.output)\n",
        "prediction = Dense(len(folders), activation='softmax')(x)"
      ],
      "execution_count": null,
      "outputs": []
    },
    {
      "cell_type": "code",
      "metadata": {
        "id": "7WnmO9_fEFap"
      },
      "source": [
        "model = Model(inputs=vgg.input, outputs=prediction)"
      ],
      "execution_count": null,
      "outputs": []
    },
    {
      "cell_type": "code",
      "metadata": {
        "colab": {
          "base_uri": "https://localhost:8080/"
        },
        "id": "hao6R7VtEHSx",
        "outputId": "0387804a-6dc9-4d0e-f10d-792ee37a1345"
      },
      "source": [
        "model.summary()"
      ],
      "execution_count": null,
      "outputs": [
        {
          "output_type": "stream",
          "text": [
            "Model: \"model\"\n",
            "_________________________________________________________________\n",
            "Layer (type)                 Output Shape              Param #   \n",
            "=================================================================\n",
            "input_1 (InputLayer)         [(None, 224, 224, 3)]     0         \n",
            "_________________________________________________________________\n",
            "block1_conv1 (Conv2D)        (None, 224, 224, 64)      1792      \n",
            "_________________________________________________________________\n",
            "block1_conv2 (Conv2D)        (None, 224, 224, 64)      36928     \n",
            "_________________________________________________________________\n",
            "block1_pool (MaxPooling2D)   (None, 112, 112, 64)      0         \n",
            "_________________________________________________________________\n",
            "block2_conv1 (Conv2D)        (None, 112, 112, 128)     73856     \n",
            "_________________________________________________________________\n",
            "block2_conv2 (Conv2D)        (None, 112, 112, 128)     147584    \n",
            "_________________________________________________________________\n",
            "block2_pool (MaxPooling2D)   (None, 56, 56, 128)       0         \n",
            "_________________________________________________________________\n",
            "block3_conv1 (Conv2D)        (None, 56, 56, 256)       295168    \n",
            "_________________________________________________________________\n",
            "block3_conv2 (Conv2D)        (None, 56, 56, 256)       590080    \n",
            "_________________________________________________________________\n",
            "block3_conv3 (Conv2D)        (None, 56, 56, 256)       590080    \n",
            "_________________________________________________________________\n",
            "block3_pool (MaxPooling2D)   (None, 28, 28, 256)       0         \n",
            "_________________________________________________________________\n",
            "block4_conv1 (Conv2D)        (None, 28, 28, 512)       1180160   \n",
            "_________________________________________________________________\n",
            "block4_conv2 (Conv2D)        (None, 28, 28, 512)       2359808   \n",
            "_________________________________________________________________\n",
            "block4_conv3 (Conv2D)        (None, 28, 28, 512)       2359808   \n",
            "_________________________________________________________________\n",
            "block4_pool (MaxPooling2D)   (None, 14, 14, 512)       0         \n",
            "_________________________________________________________________\n",
            "block5_conv1 (Conv2D)        (None, 14, 14, 512)       2359808   \n",
            "_________________________________________________________________\n",
            "block5_conv2 (Conv2D)        (None, 14, 14, 512)       2359808   \n",
            "_________________________________________________________________\n",
            "block5_conv3 (Conv2D)        (None, 14, 14, 512)       2359808   \n",
            "_________________________________________________________________\n",
            "block5_pool (MaxPooling2D)   (None, 7, 7, 512)         0         \n",
            "_________________________________________________________________\n",
            "flatten (Flatten)            (None, 25088)             0         \n",
            "_________________________________________________________________\n",
            "dense (Dense)                (None, 2)                 50178     \n",
            "=================================================================\n",
            "Total params: 14,764,866\n",
            "Trainable params: 50,178\n",
            "Non-trainable params: 14,714,688\n",
            "_________________________________________________________________\n"
          ],
          "name": "stdout"
        }
      ]
    },
    {
      "cell_type": "code",
      "metadata": {
        "id": "4U8S_BUPCaI8"
      },
      "source": [
        "\n",
        "model.compile(\n",
        "  loss='categorical_crossentropy',\n",
        "  optimizer='adam',\n",
        "  metrics=['accuracy']\n",
        ")"
      ],
      "execution_count": null,
      "outputs": []
    },
    {
      "cell_type": "code",
      "metadata": {
        "id": "H5nf0dr4C3Ez"
      },
      "source": [
        "\n",
        "from keras.preprocessing.image import ImageDataGenerator"
      ],
      "execution_count": null,
      "outputs": []
    },
    {
      "cell_type": "code",
      "metadata": {
        "id": "T0HL9z_cC3Bm"
      },
      "source": [
        "\n",
        "train_datagen = ImageDataGenerator(rescale=1/255,\n",
        "                             rotation_range=20,\n",
        "                             horizontal_flip=True,\n",
        "                             height_shift_range=0.1,\n",
        "                             width_shift_range=0.1,\n",
        "                             shear_range=0.1,\n",
        ")"
      ],
      "execution_count": null,
      "outputs": []
    },
    {
      "cell_type": "code",
      "metadata": {
        "id": "gJSll2PXC2-9"
      },
      "source": [
        "\n",
        "Valid_datagen = ImageDataGenerator(rescale = 1./255)"
      ],
      "execution_count": null,
      "outputs": []
    },
    {
      "cell_type": "code",
      "metadata": {
        "colab": {
          "base_uri": "https://localhost:8080/"
        },
        "id": "ZTwq1Lu9C28O",
        "outputId": "75882bb1-72d8-432f-80c4-251c9ecfab7c"
      },
      "source": [
        "training_set = train_datagen.flow_from_directory('/content/drive/MyDrive/Covid_19 Dataset:11 04 2021/train',\n",
        "                                                 target_size = (224, 224),\n",
        "                                                 batch_size = 32,\n",
        "                                                 class_mode = 'categorical')"
      ],
      "execution_count": null,
      "outputs": [
        {
          "output_type": "stream",
          "text": [
            "Found 5169 images belonging to 2 classes.\n"
          ],
          "name": "stdout"
        }
      ]
    },
    {
      "cell_type": "code",
      "metadata": {
        "colab": {
          "base_uri": "https://localhost:8080/"
        },
        "id": "B838aGLMC25W",
        "outputId": "7bd21f16-830f-44aa-b2a2-266afa825cbc"
      },
      "source": [
        "Valid_set = Valid_datagen.flow_from_directory('/content/drive/MyDrive/Covid_19 Dataset:11 04 2021/valid',\n",
        "                                            target_size = (224, 224),\n",
        "                                            batch_size = 32,\n",
        "                                            class_mode = 'categorical')"
      ],
      "execution_count": null,
      "outputs": [
        {
          "output_type": "stream",
          "text": [
            "Found 1723 images belonging to 2 classes.\n"
          ],
          "name": "stdout"
        }
      ]
    },
    {
      "cell_type": "code",
      "metadata": {
        "colab": {
          "base_uri": "https://localhost:8080/"
        },
        "id": "bXFCJsvaDLjq",
        "outputId": "7279fbea-6c89-4c34-d4ee-cef4aa08af76"
      },
      "source": [
        "m = model.fit_generator(\n",
        "  training_set,\n",
        "  validation_data=Valid_set,\n",
        "  epochs=4,\n",
        "  steps_per_epoch=len(training_set),\n",
        "  validation_steps=len(Valid_set)\n",
        ")"
      ],
      "execution_count": null,
      "outputs": [
        {
          "output_type": "stream",
          "text": [
            "/usr/local/lib/python3.7/dist-packages/tensorflow/python/keras/engine/training.py:1844: UserWarning: `Model.fit_generator` is deprecated and will be removed in a future version. Please use `Model.fit`, which supports generators.\n",
            "  warnings.warn('`Model.fit_generator` is deprecated and '\n"
          ],
          "name": "stderr"
        },
        {
          "output_type": "stream",
          "text": [
            "Epoch 1/4\n",
            "162/162 [==============================] - 2184s 13s/step - loss: 0.6017 - accuracy: 0.7639 - val_loss: 0.3482 - val_accuracy: 0.8474\n",
            "Epoch 2/4\n",
            "162/162 [==============================] - 70s 430ms/step - loss: 0.2910 - accuracy: 0.8799 - val_loss: 0.3327 - val_accuracy: 0.8561\n",
            "Epoch 3/4\n",
            "162/162 [==============================] - 71s 435ms/step - loss: 0.2273 - accuracy: 0.9011 - val_loss: 0.3643 - val_accuracy: 0.8369\n",
            "Epoch 4/4\n",
            "162/162 [==============================] - 73s 449ms/step - loss: 0.2157 - accuracy: 0.9130 - val_loss: 0.2270 - val_accuracy: 0.9060\n"
          ],
          "name": "stdout"
        }
      ]
    },
    {
      "cell_type": "code",
      "metadata": {
        "colab": {
          "base_uri": "https://localhost:8080/",
          "height": 282
        },
        "id": "_W4pCekYDLgK",
        "outputId": "225b984c-9d04-49f0-9575-f8a5ca158700"
      },
      "source": [
        "# plot the loss \n",
        "plt.plot(m.history['loss'], label='train loss')\n",
        "plt.plot(m.history['val_loss'], label='validation loss')\n",
        "plt.legend()\n",
        "plt.show()\n",
        "plt.savefig('LossVal_loss')"
      ],
      "execution_count": null,
      "outputs": [
        {
          "output_type": "display_data",
          "data": {
            "image/png": "[encoded data removed]",
            "text/plain": [
              "<Figure size 432x288 with 1 Axes>"
            ]
          },
          "metadata": {
            "tags": [],
            "needs_background": "light"
          }
        },
        {
          "output_type": "display_data",
          "data": {
            "text/plain": [
              "<Figure size 432x288 with 0 Axes>"
            ]
          },
          "metadata": {
            "tags": []
          }
        }
      ]
    },
    {
      "cell_type": "code",
      "metadata": {
        "colab": {
          "base_uri": "https://localhost:8080/",
          "height": 282
        },
        "id": "P0-kvoXbDLdB",
        "outputId": "4a2e91eb-0c41-410b-8bb0-65213b791804"
      },
      "source": [
        "\n",
        "# plot the accuracy\n",
        "plt.plot(m.history['accuracy'], label='train accuracy')\n",
        "plt.plot(m.history['val_accuracy'], label='validation accuracy')\n",
        "plt.legend()\n",
        "plt.show()\n",
        "plt.savefig('AccVal_acc')"
      ],
      "execution_count": null,
      "outputs": [
        {
          "output_type": "display_data",
          "data": {
            "image/png": "[encoded data removed]",
            "text/plain": [
              "<Figure size 432x288 with 1 Axes>"
            ]
          },
          "metadata": {
            "tags": [],
            "needs_background": "light"
          }
        },
        {
          "output_type": "display_data",
          "data": {
            "text/plain": [
              "<Figure size 432x288 with 0 Axes>"
            ]
          },
          "metadata": {
            "tags": []
          }
        }
      ]
    },
    {
      "cell_type": "code",
      "metadata": {
        "id": "qiJGaca-C2yj"
      },
      "source": [
        "test_datagen = ImageDataGenerator(rescale = 1./255)"
      ],
      "execution_count": null,
      "outputs": []
    },
    {
      "cell_type": "code",
      "metadata": {
        "colab": {
          "base_uri": "https://localhost:8080/"
        },
        "id": "00sz2P1vNu_U",
        "outputId": "fe5f7173-3b91-41d7-a56e-36e9492030d2"
      },
      "source": [
        "test_set = test_datagen.flow_from_directory('/content/drive/MyDrive/Covid_19 Dataset:11 04 2021/test',\n",
        "                                            target_size = (224, 224),\n",
        "                                            batch_size = 32,\n",
        "                                            class_mode = 'categorical')"
      ],
      "execution_count": null,
      "outputs": [
        {
          "output_type": "stream",
          "text": [
            "Found 1723 images belonging to 2 classes.\n"
          ],
          "name": "stdout"
        }
      ]
    },
    {
      "cell_type": "code",
      "metadata": {
        "colab": {
          "base_uri": "https://localhost:8080/"
        },
        "id": "0-y7gQiFNu6u",
        "outputId": "42f3e7ad-8999-49a3-df08-7e1f369431ab"
      },
      "source": [
        "test_loss, test_accuracy = model.evaluate(\n",
        "  test_set,\n",
        "  steps=len(test_set),\n",
        ")"
      ],
      "execution_count": null,
      "outputs": [
        {
          "output_type": "stream",
          "text": [
            "54/54 [==============================] - 498s 9s/step - loss: 0.1687 - accuracy: 0.9338\n"
          ],
          "name": "stdout"
        }
      ]
    },
    {
      "cell_type": "code",
      "metadata": {
        "colab": {
          "base_uri": "https://localhost:8080/"
        },
        "id": "tmev5GQuNu35",
        "outputId": "bbbdd0d1-1f0c-4f8e-d566-d6eaad063dc8"
      },
      "source": [
        "print(\"accuracy on test dataset\",test_accuracy)\n",
        "print(\"----\")\n",
        "print(\"loss on test set\",test_loss)"
      ],
      "execution_count": null,
      "outputs": [
        {
          "output_type": "stream",
          "text": [
            "accuracy on test dataset 0.9338363409042358\n",
            "----\n",
            "loss on test set 0.16870945692062378\n"
          ],
          "name": "stdout"
        }
      ]
    },
    {
      "cell_type": "markdown",
      "metadata": {
        "id": "alNIYpmCUmal"
      },
      "source": [
        "\n",
        "model.save('covid19.h5')"
      ]
    },
    {
      "cell_type": "code",
      "metadata": {
        "id": "pgbhrtqRFKIr"
      },
      "source": [
        "model.save('Covid19model.h5')"
      ],
      "execution_count": null,
      "outputs": []
    }
  ]
}